{
 "cells": [
  {
   "cell_type": "code",
   "execution_count": null,
   "metadata": {
    "collapsed": false
   },
   "outputs": [],
   "source": [
    "import numpy as np\n",
    "import cv2\n",
    "import matplotlib.pyplot as plt\n",
    "#import pandas as ps\n",
    "%matplotlib inline"
   ]
  },
  {
   "cell_type": "markdown",
   "metadata": {},
   "source": [
    "## Loading and displaying images\n",
    "\n",
    "load an image  - using OpenCV \n",
    "\n",
    "display image - using matplotlib\n"
   ]
  },
  {
   "cell_type": "code",
   "execution_count": null,
   "metadata": {
    "collapsed": false,
    "scrolled": true
   },
   "outputs": [],
   "source": [
    "image = cv2.imread(\"games.jpg\")\n",
    "plt.imshow(image) \n",
    "print type(image)\n",
    "print \"Number of array dimensions: \" + str(image.ndim)\n",
    "print \"Size of image: \" + str(image.shape)\n",
    "print \"Number of pixels: \" + str(image.size)"
   ]
  },
  {
   "cell_type": "markdown",
   "metadata": {},
   "source": [
    "**Color image loaded by OpenCV is in BGR mode. But Matplotlib displays in RGB mode. So color images will not be displayed correctly in Matplotlib if image is read with OpenCV. **"
   ]
  },
  {
   "cell_type": "code",
   "execution_count": null,
   "metadata": {
    "collapsed": true
   },
   "outputs": [],
   "source": [
    "cv2.imshow(\"Games\",image) # a new window will open - close it to continue.\n",
    "cv2.waitKey(0)\n",
    "cv2.destroyAllWindows()"
   ]
  },
  {
   "cell_type": "markdown",
   "metadata": {},
   "source": [
    "To display images loaded by OpenCV - rearrange the color channels."
   ]
  },
  {
   "cell_type": "code",
   "execution_count": null,
   "metadata": {
    "collapsed": false
   },
   "outputs": [],
   "source": [
    "b,g,r = cv2.split(image)\n",
    "img = cv2.merge((r,g,b))\n",
    "plt.imshow(img)"
   ]
  },
  {
   "cell_type": "code",
   "execution_count": null,
   "metadata": {
    "collapsed": false
   },
   "outputs": [],
   "source": [
    "fig = plt.figure()\n",
    "a=fig.add_subplot(1,3,1)\n",
    "imgplot = plt.imshow(image[:,:,0], cmap = 'Reds')\n",
    "a.set_title('Red channel')\n",
    "plt.colorbar(ticks=[0, 255], orientation ='horizontal')\n",
    "a.set_axis_off()\n",
    "\n",
    "a=fig.add_subplot(1,3,2)\n",
    "imgplot = plt.imshow(image[:,:,1], cmap = 'Greens')\n",
    "a.set_title('Green Channel')\n",
    "plt.colorbar(ticks=[0, 255], orientation='horizontal')\n",
    "a.set_axis_off()\n",
    "\n",
    "a=fig.add_subplot(1,3,3)\n",
    "imgplot = plt.imshow(image[:,:,2], cmap = 'Blues')\n",
    "a.set_title('Blue Channel')\n",
    "plt.colorbar( ticks=[0, 255], orientation='horizontal')\n",
    "a.set_axis_off()"
   ]
  },
  {
   "cell_type": "markdown",
   "metadata": {},
   "source": [
    "Leave only the first channel (place zeros in the two others).\n",
    "See the results in Matplotlib and OpenCV."
   ]
  },
  {
   "cell_type": "code",
   "execution_count": null,
   "metadata": {
    "collapsed": false
   },
   "outputs": [],
   "source": [
    "b,g,r = cv2.split(image)\n",
    "blueImg = image\n",
    "blueImg[:,:,1] = 0\n",
    "blueImg[:,:,2] = 0\n",
    "\n",
    "plt.imshow(blueImg)\n",
    "\n",
    "plt.figure()\n",
    "plt.imshow(b, cmap='gray')\n",
    "plt.colorbar( ticks=[0, 255], orientation='horizontal')\n",
    "\n",
    "cv2.imshow(\"Blue?\",blueImg)\n",
    "cv2.waitKey(0)\n",
    "cv2.destroyAllWindows()\n"
   ]
  },
  {
   "cell_type": "markdown",
   "metadata": {},
   "source": [
    "# color conversion"
   ]
  },
  {
   "cell_type": "markdown",
   "metadata": {},
   "source": [
    "    For color conversion, we use the function \n",
    "        cv2.cvtColor(input_image, flag) \n",
    "    where flag determines the type of conversion."
   ]
  },
  {
   "cell_type": "code",
   "execution_count": null,
   "metadata": {
    "collapsed": false
   },
   "outputs": [],
   "source": [
    "grayImg = cv2.cvtColor(image, cv2.COLOR_BGR2GRAY)\n",
    "\n",
    "print type(grayImg)\n",
    "print grayImg.ndim\n",
    "print grayImg.shape\n",
    "\n",
    "plt.imshow(grayImg, cmap = 'gray')\n",
    "plt.colorbar( ticks=[0, 255])"
   ]
  },
  {
   "cell_type": "markdown",
   "metadata": {},
   "source": [
    "In HSV, it is more easier to represent a color than RGB color-space. \n",
    "\n",
    "**Note:** \n",
    "For HSV, Hue range is [0,179], Saturation range is [0,255] and Value range is [0,255]. Different softwares use different scales. So if you are comparing OpenCV values with them, you need to normalize these ranges."
   ]
  },
  {
   "cell_type": "code",
   "execution_count": null,
   "metadata": {
    "collapsed": false
   },
   "outputs": [],
   "source": [
    "img = cv2.imread(\"golf.png\")\n",
    "# Convert BGR to HSV\n",
    "hsv = cv2.cvtColor(img, cv2.COLOR_BGR2HSV)\n",
    "\n",
    "\n",
    "fig = plt.figure()\n",
    "a=fig.add_subplot(1,3,1)\n",
    "plt.imshow(hsv[:,:,0],cmap='hsv')\n",
    "plt.xticks([]), plt.yticks([])   # to hide tick values on X and Y axis\n",
    "plt.title('H')\n",
    "\n",
    "a = fig.add_subplot(1,3,2)\n",
    "plt.imshow(img)\n",
    "plt.xticks([]), plt.yticks([])   # to hide tick values on X and Y axis\n",
    "plt.title('BGR')\n",
    "\n",
    "b,g,r = cv2.split(img)       # get b,g,r\n",
    "rgb_img = cv2.merge([r,g,b])     # switch it to rgb\n",
    "\n",
    "a = fig.add_subplot(1,3,3)\n",
    "plt.imshow(rgb_img)\n",
    "plt.xticks([]), plt.yticks([])   # to hide tick values on X and Y axis\n",
    "plt.title('RGB')"
   ]
  },
  {
   "cell_type": "markdown",
   "metadata": {},
   "source": [
    "A simple OpenCV gui, for displaying colors. (press 'esc' to quit)."
   ]
  },
  {
   "cell_type": "code",
   "execution_count": null,
   "metadata": {
    "collapsed": false
   },
   "outputs": [],
   "source": [
    "def nothing(x):\n",
    "    pass\n",
    "\n",
    "# Create a black image, a window\n",
    "img = np.zeros((300,512,3), np.uint8)\n",
    "cv2.namedWindow('image')\n",
    "\n",
    "# create trackbars for color change\n",
    "cv2.createTrackbar('R','image',0,255,nothing)\n",
    "cv2.createTrackbar('G','image',0,255,nothing)\n",
    "cv2.createTrackbar('B','image',0,255,nothing)\n",
    "\n",
    "# create switch for ON/OFF functionality\n",
    "switch = '0 : OFF \\n1 : ON'\n",
    "cv2.createTrackbar(switch, 'image',0,1,nothing)\n",
    "\n",
    "while(1):\n",
    "    cv2.imshow('image',img)\n",
    "    k = cv2.waitKey(1) & 0xFF\n",
    "    if k == 27:\n",
    "        break\n",
    "\n",
    "    # get current positions of four trackbars\n",
    "    r = cv2.getTrackbarPos('R','image')\n",
    "    g = cv2.getTrackbarPos('G','image')\n",
    "    b = cv2.getTrackbarPos('B','image')\n",
    "    s = cv2.getTrackbarPos(switch,'image')\n",
    "\n",
    "    if s == 0:\n",
    "        img[:] = 0\n",
    "    else:\n",
    "        img[:] = [b,g,r]\n",
    "\n",
    "cv2.destroyAllWindows()"
   ]
  },
  {
   "cell_type": "markdown",
   "metadata": {},
   "source": [
    "#  Filtering "
   ]
  },
  {
   "cell_type": "markdown",
   "metadata": {},
   "source": [
    "Gaussian filters.\n",
    "In OpenCV the function getGaussianKernel() produces a **separable filter** "
   ]
  },
  {
   "cell_type": "code",
   "execution_count": null,
   "metadata": {
    "collapsed": false
   },
   "outputs": [],
   "source": [
    "ksize = 11\n",
    "sigma = 5\n",
    "#ksize = int(2*np.ceil(3*sigma)+1) # this should be the optimum size\n",
    "h = cv2.getGaussianKernel(ksize, sigma) # first argument - filter size, second - sigma\n",
    "H = h.T*h\n",
    "\n",
    "if ksize < 10:\n",
    "    print H\n",
    "\n",
    "plt.imshow(H,interpolation='nearest')\n",
    "#cv2.getDerivKernels\n",
    "H.shape\n",
    "\n",
    "#cv2.Laplacian"
   ]
  },
  {
   "cell_type": "code",
   "execution_count": null,
   "metadata": {
    "collapsed": false
   },
   "outputs": [],
   "source": [
    "from mpl_toolkits.mplot3d import Axes3D\n",
    "\n",
    "fig = plt.figure()\n",
    "ax = fig.gca(projection='3d')\n",
    "X = np.arange(-ksize/2+1, ksize/2 + 1, 1)\n",
    "Y = np.arange(-ksize/2+1, ksize/2 + 1, 1)\n",
    "X, Y = np.meshgrid(X, Y)\n",
    "\n",
    "surf = ax.plot_surface(X, Y, H, rstride=1, cstride=1, linewidth=0, antialiased=False, cmap='jet')\n",
    "ax.set_zlim(0, H.max())"
   ]
  },
  {
   "cell_type": "markdown",
   "metadata": {},
   "source": [
    "Filtering operation - convolution:\n",
    "\n",
    "$g[x,y]*f[x,y] = \\displaystyle \\sum_{k_1 = -\\infty }^\\infty \\sum_{k_2 = -\\infty }^\\infty g[k_1,k_2]\\cdot f[x-k_1,y-k_2]$"
   ]
  },
  {
   "cell_type": "code",
   "execution_count": null,
   "metadata": {
    "collapsed": false
   },
   "outputs": [],
   "source": [
    "\n",
    "kernel = np.ones((3,3),np.float32)/9\n",
    "img = np.zeros((10,10), np.float32)\n",
    "img[5,5] = 1\n",
    "\n",
    "dst = cv2.filter2D(img,-1,kernel)\n",
    "\n",
    "#print img\n",
    "#print dst\n",
    "\n",
    "plt.subplot(121),plt.imshow(img,interpolation='nearest'),plt.title('Original')\n",
    "plt.xticks([]), plt.yticks([])\n",
    "plt.subplot(122),plt.imshow(dst,interpolation='nearest'),plt.title('Averaging')\n",
    "plt.xticks([]), plt.yticks([])"
   ]
  },
  {
   "cell_type": "code",
   "execution_count": null,
   "metadata": {
    "collapsed": false
   },
   "outputs": [],
   "source": [
    "#ksize = 5\n",
    "sigma = 1\n",
    "ksize = int(2*np.ceil(3*sigma)+1)\n",
    "h = cv2.getGaussianKernel(ksize, sigma)\n",
    "#print h\n",
    "\n",
    "from scipy import signal\n",
    "H = signal.convolve2d(h, h.T, boundary='fill', mode='full', fillvalue=0)\n",
    "#print H\n",
    "plt.imshow(H,interpolation='nearest')"
   ]
  },
  {
   "cell_type": "markdown",
   "metadata": {},
   "source": [
    "##Filtering demo \n",
    "\n",
    "from: http://opencv-python-tutroals.readthedocs.org/en/latest/py_tutorials/py_imgproc/py_filtering/py_filtering.html\n",
    "\n",
    "parameters - kernel size, sigma x, sigma y (if zero -> sigmas are calculated from kernel size)"
   ]
  },
  {
   "cell_type": "code",
   "execution_count": null,
   "metadata": {
    "collapsed": false
   },
   "outputs": [],
   "source": [
    "image = cv2.imread(\"games.jpg\")\n",
    "\n",
    "blur_img = cv2.GaussianBlur(image,(5,5),0)\n",
    "plt.imshow(blur_img) \n",
    "\n",
    "sigX = 8\n",
    "sigY = 8\n",
    "blur_img = cv2.GaussianBlur(image,(25,25),sigX, sigY)\n",
    "plt.imshow(blur_img) \n"
   ]
  },
  {
   "cell_type": "markdown",
   "metadata": {},
   "source": [
    "Median filtering\n"
   ]
  },
  {
   "cell_type": "code",
   "execution_count": null,
   "metadata": {
    "collapsed": false
   },
   "outputs": [],
   "source": [
    "median = cv2.medianBlur(image,11)\n",
    "\n",
    "fig = plt.figure()\n",
    "\n",
    "a=fig.add_subplot(1,2,1)\n",
    "plt.imshow(image) \n",
    "\n",
    "a=fig.add_subplot(1,2,2)\n",
    "plt.imshow(median) "
   ]
  }
 ],
 "metadata": {
  "celltoolbar": "Raw Cell Format",
  "kernelspec": {
   "display_name": "Python [default]",
   "language": "python",
   "name": "python2"
  },
  "language_info": {
   "codemirror_mode": {
    "name": "ipython",
    "version": 2
   },
   "file_extension": ".py",
   "mimetype": "text/x-python",
   "name": "python",
   "nbconvert_exporter": "python",
   "pygments_lexer": "ipython2",
   "version": "2.7.12"
  }
 },
 "nbformat": 4,
 "nbformat_minor": 0
}
